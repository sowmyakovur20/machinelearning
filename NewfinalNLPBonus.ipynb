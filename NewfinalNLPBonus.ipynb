{
  "nbformat": 4,
  "nbformat_minor": 0,
  "metadata": {
    "kernelspec": {
      "display_name": "Python 3",
      "language": "python",
      "name": "python3"
    },
    "language_info": {
      "codemirror_mode": {
        "name": "ipython",
        "version": 3
      },
      "file_extension": ".py",
      "mimetype": "text/x-python",
      "name": "python",
      "nbconvert_exporter": "python",
      "pygments_lexer": "ipython3",
      "version": "3.8.3"
    },
    "colab": {
      "name": "NewfinalNLPBonus.ipynb",
      "provenance": [],
      "include_colab_link": true
    }
  },
  "cells": [
    {
      "cell_type": "markdown",
      "metadata": {
        "id": "view-in-github",
        "colab_type": "text"
      },
      "source": [
        "<a href=\"https://colab.research.google.com/github/sowmyakovur20/machinelearning/blob/main/NewfinalNLPBonus.ipynb\" target=\"_parent\"><img src=\"https://colab.research.google.com/assets/colab-badge.svg\" alt=\"Open In Colab\"/></a>"
      ]
    },
    {
      "cell_type": "code",
      "metadata": {
        "id": "2ZL_VYtZvVzo"
      },
      "source": [
        "import pickle, glob\n",
        "import numpy as np\n",
        "import pandas as pd\n",
        "from sklearn.preprocessing import KBinsDiscretizer\n",
        "from numpy.random import randn\n",
        "from matplotlib import pyplot\n",
        "from numpy import mean\n",
        "from numpy import std\n",
        "from pandas import read_csv\n",
        "from sklearn.model_selection import cross_val_score\n",
        "from sklearn.model_selection import RepeatedStratifiedKFold\n",
        "from sklearn.neighbors import KNeighborsClassifier\n",
        "from sklearn.preprocessing import LabelEncoder\n"
      ],
      "execution_count": 71,
      "outputs": []
    },
    {
      "cell_type": "code",
      "metadata": {
        "id": "sJ86F0l1vVzs"
      },
      "source": [
        "path = '/content/drive/MyDrive/BonusQuestionData/data/*.bin'\n",
        "files = glob.glob(path)\n",
        "signal = [0,0,0,0,0]\n",
        "for i,f in enumerate(files):\n",
        "    with open(f, 'rb') as fp:\n",
        "        signal[i] = pickle.load(fp)"
      ],
      "execution_count": 72,
      "outputs": []
    },
    {
      "cell_type": "code",
      "metadata": {
        "colab": {
          "base_uri": "https://localhost:8080/"
        },
        "id": "1QevNCHUvtB-",
        "outputId": "391101d8-cdc6-46cf-d4b7-48bb92531ab1"
      },
      "source": [
        "from google.colab import drive\n",
        "drive.mount('/content/drive')"
      ],
      "execution_count": 73,
      "outputs": [
        {
          "output_type": "stream",
          "text": [
            "Drive already mounted at /content/drive; to attempt to forcibly remount, call drive.mount(\"/content/drive\", force_remount=True).\n"
          ],
          "name": "stdout"
        }
      ]
    },
    {
      "cell_type": "code",
      "metadata": {
        "id": "-O4HN_6kvVzt"
      },
      "source": [
        "signal1 = np.array(signal[4], dtype = 'O')\n",
        "signal2 = np.array(signal[3], dtype = 'O')\n",
        "signal3 = np.array(signal[2], dtype = 'O')\n",
        "signal4 = np.array(signal[1], dtype = 'O')\n",
        "signal5 = np.array(signal[0], dtype = 'O')\n"
      ],
      "execution_count": 74,
      "outputs": []
    },
    {
      "cell_type": "code",
      "metadata": {
        "id": "bCxSH0cRvVzu"
      },
      "source": [
        "signal1 = pd.DataFrame(signal1, columns = ['X'])\n",
        "signal1['Y'] = 0\n",
        "\n",
        "signal2 = pd.DataFrame(signal2, columns = ['X'])\n",
        "signal2['Y'] = 1\n",
        "\n",
        "signal3 = pd.DataFrame(signal3, columns = ['X'])\n",
        "signal3['Y'] = 2\n",
        "\n",
        "signal4 = pd.DataFrame(signal4, columns = ['X'])\n",
        "signal4['Y'] = 3\n",
        "\n",
        "signal5 = pd.DataFrame(signal5, columns = ['X'])\n",
        "signal5['Y'] = 4"
      ],
      "execution_count": 75,
      "outputs": []
    },
    {
      "cell_type": "code",
      "metadata": {
        "id": "f-iiuU69vVzv"
      },
      "source": [
        "data = signal1.append(signal2, ignore_index = True)\n",
        "data = data.append(signal3, ignore_index = True)\n",
        "data = data.append(signal4, ignore_index = True)\n",
        "data = data.append(signal5, ignore_index = True)"
      ],
      "execution_count": 76,
      "outputs": []
    },
    {
      "cell_type": "code",
      "metadata": {
        "colab": {
          "base_uri": "https://localhost:8080/",
          "height": 419
        },
        "id": "NqPX9zB7vVzv",
        "outputId": "18421518-9492-4bfd-ab8a-6aa671fbc319"
      },
      "source": [
        "data"
      ],
      "execution_count": 77,
      "outputs": [
        {
          "output_type": "execute_result",
          "data": {
            "text/html": [
              "<div>\n",
              "<style scoped>\n",
              "    .dataframe tbody tr th:only-of-type {\n",
              "        vertical-align: middle;\n",
              "    }\n",
              "\n",
              "    .dataframe tbody tr th {\n",
              "        vertical-align: top;\n",
              "    }\n",
              "\n",
              "    .dataframe thead th {\n",
              "        text-align: right;\n",
              "    }\n",
              "</style>\n",
              "<table border=\"1\" class=\"dataframe\">\n",
              "  <thead>\n",
              "    <tr style=\"text-align: right;\">\n",
              "      <th></th>\n",
              "      <th>X</th>\n",
              "      <th>Y</th>\n",
              "    </tr>\n",
              "  </thead>\n",
              "  <tbody>\n",
              "    <tr>\n",
              "      <th>0</th>\n",
              "      <td>[17.35347938537598, 18.08359146118164, 19.4127...</td>\n",
              "      <td>0</td>\n",
              "    </tr>\n",
              "    <tr>\n",
              "      <th>1</th>\n",
              "      <td>[21.62890434265137, 23.19485092163086, 23.8474...</td>\n",
              "      <td>0</td>\n",
              "    </tr>\n",
              "    <tr>\n",
              "      <th>2</th>\n",
              "      <td>[27.77483749389648, 30.16787528991699, 32.0842...</td>\n",
              "      <td>0</td>\n",
              "    </tr>\n",
              "    <tr>\n",
              "      <th>3</th>\n",
              "      <td>[40.64637756347656, 37.54090118408203, 36.8591...</td>\n",
              "      <td>0</td>\n",
              "    </tr>\n",
              "    <tr>\n",
              "      <th>4</th>\n",
              "      <td>[59.7484130859375, 61.23234176635742, 62.69600...</td>\n",
              "      <td>0</td>\n",
              "    </tr>\n",
              "    <tr>\n",
              "      <th>...</th>\n",
              "      <td>...</td>\n",
              "      <td>...</td>\n",
              "    </tr>\n",
              "    <tr>\n",
              "      <th>1053</th>\n",
              "      <td>[1.150460720062256, 1.058937549591064, 1.09076...</td>\n",
              "      <td>4</td>\n",
              "    </tr>\n",
              "    <tr>\n",
              "      <th>1054</th>\n",
              "      <td>[3.620477437973022, 3.860167503356934, 4.19080...</td>\n",
              "      <td>4</td>\n",
              "    </tr>\n",
              "    <tr>\n",
              "      <th>1055</th>\n",
              "      <td>[4.077456474304199, 4.05850076675415, 4.585644...</td>\n",
              "      <td>4</td>\n",
              "    </tr>\n",
              "    <tr>\n",
              "      <th>1056</th>\n",
              "      <td>[10.45901107788086, 5.725070476531982]</td>\n",
              "      <td>4</td>\n",
              "    </tr>\n",
              "    <tr>\n",
              "      <th>1057</th>\n",
              "      <td>[2.688856363296509, 3.007840156555176, 4.27440...</td>\n",
              "      <td>4</td>\n",
              "    </tr>\n",
              "  </tbody>\n",
              "</table>\n",
              "<p>1058 rows × 2 columns</p>\n",
              "</div>"
            ],
            "text/plain": [
              "                                                      X  Y\n",
              "0     [17.35347938537598, 18.08359146118164, 19.4127...  0\n",
              "1     [21.62890434265137, 23.19485092163086, 23.8474...  0\n",
              "2     [27.77483749389648, 30.16787528991699, 32.0842...  0\n",
              "3     [40.64637756347656, 37.54090118408203, 36.8591...  0\n",
              "4     [59.7484130859375, 61.23234176635742, 62.69600...  0\n",
              "...                                                 ... ..\n",
              "1053  [1.150460720062256, 1.058937549591064, 1.09076...  4\n",
              "1054  [3.620477437973022, 3.860167503356934, 4.19080...  4\n",
              "1055  [4.077456474304199, 4.05850076675415, 4.585644...  4\n",
              "1056             [10.45901107788086, 5.725070476531982]  4\n",
              "1057  [2.688856363296509, 3.007840156555176, 4.27440...  4\n",
              "\n",
              "[1058 rows x 2 columns]"
            ]
          },
          "metadata": {
            "tags": []
          },
          "execution_count": 77
        }
      ]
    },
    {
      "cell_type": "code",
      "metadata": {
        "id": "8H-mc79jvVzv"
      },
      "source": [
        "size = data['X'].str.len()\n",
        "m= max(size)\n",
        "x = []\n",
        "for i in range(0,len(data)):\n",
        "    i_size = len(data['X'][i])\n",
        "    old = data['X'][i]\n",
        "    if i_size < m:\n",
        "        new = [0] * (m - i_size)\n",
        "        x.append(old + new)\n",
        "    else:\n",
        "        x.append(old)"
      ],
      "execution_count": 78,
      "outputs": []
    },
    {
      "cell_type": "code",
      "metadata": {
        "id": "8tdr7IqZvVzw"
      },
      "source": [
        "x = np.array(x)\n",
        "y = data['Y'].values"
      ],
      "execution_count": 79,
      "outputs": []
    },
    {
      "cell_type": "code",
      "metadata": {
        "id": "IOHtSRh9vVzw"
      },
      "source": [
        "df = pd.DataFrame(x)\n",
        "df['y'] = y"
      ],
      "execution_count": 80,
      "outputs": []
    },
    {
      "cell_type": "code",
      "metadata": {
        "id": "LMHOw1h9vVzw"
      },
      "source": [
        "def r(a):\n",
        "    return round(a,2)\n",
        "\n",
        "for i in range(0,477):\n",
        "    df[i] = df[i].apply(r)"
      ],
      "execution_count": 81,
      "outputs": []
    },
    {
      "cell_type": "code",
      "metadata": {
        "colab": {
          "base_uri": "https://localhost:8080/"
        },
        "id": "bAArr_8wvVzw",
        "outputId": "43337685-7cec-4f60-da1b-f1ae4b8df257"
      },
      "source": [
        "df['y']"
      ],
      "execution_count": 82,
      "outputs": [
        {
          "output_type": "execute_result",
          "data": {
            "text/plain": [
              "0       0\n",
              "1       0\n",
              "2       0\n",
              "3       0\n",
              "4       0\n",
              "       ..\n",
              "1053    4\n",
              "1054    4\n",
              "1055    4\n",
              "1056    4\n",
              "1057    4\n",
              "Name: y, Length: 1058, dtype: int64"
            ]
          },
          "metadata": {
            "tags": []
          },
          "execution_count": 82
        }
      ]
    },
    {
      "cell_type": "code",
      "metadata": {
        "id": "jfQsz6SbvVzx"
      },
      "source": [
        "df.to_csv(\"datafile.csv\", index=False)"
      ],
      "execution_count": 83,
      "outputs": []
    },
    {
      "cell_type": "code",
      "metadata": {
        "id": "0W3TUNyBxT6N"
      },
      "source": [
        "#reading the dataset\r\n",
        "data = pd.read_csv('/content/datafile.csv')"
      ],
      "execution_count": 84,
      "outputs": []
    },
    {
      "cell_type": "code",
      "metadata": {
        "id": "VWTzSaS8xBA5"
      },
      "source": [
        "x = data.iloc[:, :-1].values\n",
        "y = data.iloc[:, -1].values"
      ],
      "execution_count": 85,
      "outputs": []
    },
    {
      "cell_type": "code",
      "metadata": {
        "id": "d49nZUh7wcC2"
      },
      "source": [
        "from sklearn.model_selection import train_test_split\n",
        "x_train, x_test, y_train, y_test = train_test_split(x,y, test_size = 0.25, random_state =0)"
      ],
      "execution_count": 86,
      "outputs": []
    },
    {
      "cell_type": "code",
      "metadata": {
        "colab": {
          "base_uri": "https://localhost:8080/"
        },
        "id": "X4eBUjAQf1gM",
        "outputId": "448064c4-cdc9-480c-b0fc-f1b41fc8b60d"
      },
      "source": [
        "#defining and configure the model using KNeighbours\r\n",
        "model = KNeighborsClassifier()\r\n",
        "# evaluating the model\r\n",
        "cv = RepeatedStratifiedKFold(n_splits=5, n_repeats=3, random_state=1)\r\n",
        "n_scores = cross_val_score(model, x_train, y_train, scoring='accuracy', cv=cv, n_jobs=-1, error_score='raise')\r\n",
        "print('Accuracy: %.3f (%.3f)' % (mean(n_scores), std(n_scores)))"
      ],
      "execution_count": 87,
      "outputs": [
        {
          "output_type": "stream",
          "text": [
            "Accuracy: 0.336 (0.034)\n"
          ],
          "name": "stdout"
        }
      ]
    },
    {
      "cell_type": "markdown",
      "metadata": {
        "id": "LdVTWtmzgtp8"
      },
      "source": [
        "Using **Discretization Transform**"
      ]
    },
    {
      "cell_type": "code",
      "metadata": {
        "colab": {
          "base_uri": "https://localhost:8080/"
        },
        "id": "uEc3sdg0gTaT",
        "outputId": "fe912d62-5246-4308-d22c-bbca14f53145"
      },
      "source": [
        "#loading dataset\r\n",
        "url = \"/content/datafile.csv\"\r\n",
        "dataset = read_csv(url, header=None)\r\n",
        "\r\n",
        "#retrieving the input values\r\n",
        "data = dataset.values\r\n",
        "\r\n",
        "#segregating into input and output columns\r\n",
        "x, y = data[:, :-1], data[:, -1]\r\n",
        "x = x.astype('float32')\r\n",
        "y = LabelEncoder().fit_transform(y.astype('str'))\r\n",
        "\r\n",
        "#defining the pipeline\r\n",
        "transf = KBinsDiscretizer(n_bins=10, encode='ordinal', strategy='uniform')\r\n",
        "model = KNeighborsClassifier()\r\n",
        "pipeline = Pipeline(steps=[('t', transf), ('m', model)])\r\n",
        "\r\n",
        "#evaluating the pipeline\r\n",
        "cv = RepeatedStratifiedKFold(n_splits=10, n_repeats=3, random_state=1)\r\n",
        "n_scores = cross_val_score(pipeline, X, y, scoring='accuracy', cv=cv, n_jobs=-1, error_score='raise')\r\n",
        "\r\n",
        "#performance of the pipeline\r\n",
        "print('Accuracy: %.3f (%.3f)' % (mean(n_scores), std(n_scores)))"
      ],
      "execution_count": 92,
      "outputs": [
        {
          "output_type": "stream",
          "text": [
            "/usr/local/lib/python3.7/dist-packages/sklearn/model_selection/_split.py:667: UserWarning: The least populated class in y has only 1 members, which is less than n_splits=10.\n",
            "  % (min_groups, self.n_splits)), UserWarning)\n",
            "/usr/local/lib/python3.7/dist-packages/sklearn/model_selection/_split.py:667: UserWarning: The least populated class in y has only 1 members, which is less than n_splits=10.\n",
            "  % (min_groups, self.n_splits)), UserWarning)\n",
            "/usr/local/lib/python3.7/dist-packages/sklearn/model_selection/_split.py:667: UserWarning: The least populated class in y has only 1 members, which is less than n_splits=10.\n",
            "  % (min_groups, self.n_splits)), UserWarning)\n"
          ],
          "name": "stderr"
        },
        {
          "output_type": "stream",
          "text": [
            "Accuracy: 0.310 (0.046)\n"
          ],
          "name": "stdout"
        }
      ]
    },
    {
      "cell_type": "markdown",
      "metadata": {
        "id": "YjNrmbytkQ3b"
      },
      "source": [
        "Using KNN with k-means ordinal discretization transform"
      ]
    },
    {
      "cell_type": "code",
      "metadata": {
        "colab": {
          "base_uri": "https://localhost:8080/"
        },
        "id": "sLD5Fd_6kLZD",
        "outputId": "3854d803-7c00-446e-fc33-14c1266c63fe"
      },
      "source": [
        "#loading dataset\r\n",
        "url = \"/content/datafile.csv\"\r\n",
        "dataset = read_csv(url, header=None)\r\n",
        "\r\n",
        "#retrieving the input values\r\n",
        "data = dataset.values[:, :-1]\r\n",
        "\r\n",
        "#segregating into input and output columns\r\n",
        "x, y = data[:, :-1], data[:, -1]\r\n",
        "x = x.astype('float32')\r\n",
        "y = LabelEncoder().fit_transform(y.astype('str'))\r\n",
        "\r\n",
        "#defining the pipeline\r\n",
        "transf = KBinsDiscretizer(n_bins=3, encode='ordinal', strategy='kmeans')\r\n",
        "model = KNeighborsClassifier()\r\n",
        "pipeline = Pipeline(steps=[('t', transf), ('m', model)])\r\n",
        "\r\n",
        "#evaluating the pipeline\r\n",
        "cv = RepeatedStratifiedKFold(n_splits=10, n_repeats=3, random_state=1)\r\n",
        "n_scores = cross_val_score(pipeline, x, y, scoring='accuracy', cv=cv, n_jobs=-1, error_score='raise')\r\n",
        "\r\n",
        "#performance of the pipeline\r\n",
        "print('Accuracy: %.3f (%.3f)' % (mean(n_scores), std(n_scores)))"
      ],
      "execution_count": 93,
      "outputs": [
        {
          "output_type": "stream",
          "text": [
            "/usr/local/lib/python3.7/dist-packages/sklearn/model_selection/_split.py:667: UserWarning: The least populated class in y has only 1 members, which is less than n_splits=10.\n",
            "  % (min_groups, self.n_splits)), UserWarning)\n",
            "/usr/local/lib/python3.7/dist-packages/sklearn/model_selection/_split.py:667: UserWarning: The least populated class in y has only 1 members, which is less than n_splits=10.\n",
            "  % (min_groups, self.n_splits)), UserWarning)\n",
            "/usr/local/lib/python3.7/dist-packages/sklearn/model_selection/_split.py:667: UserWarning: The least populated class in y has only 1 members, which is less than n_splits=10.\n",
            "  % (min_groups, self.n_splits)), UserWarning)\n"
          ],
          "name": "stderr"
        },
        {
          "output_type": "stream",
          "text": [
            "Accuracy: 0.997 (0.004)\n"
          ],
          "name": "stdout"
        }
      ]
    }
  ]
}